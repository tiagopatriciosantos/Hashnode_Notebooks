{
 "cells": [
  {
   "attachments": {},
   "cell_type": "markdown",
   "metadata": {},
   "source": [
    "# Jupyter2Hashnode: An Effortless Way to Convert Jupyter Notebooks to Hashnode Stories\n",
    "\n",
    "<img src=\"https://cdn.hashnode.com/res/hashnode/image/upload/v1675875168954/5XTO8_L6j.png?auto=compress\" width=\"700\" >"
   ]
  },
  {
   "cell_type": "markdown",
   "metadata": {},
   "source": [
    "This story was created using this [notebook](https://github.com/tiagopatriciosantos/jupyter2hashnode/tree/master/src/jupyter2hashnode/examples/jupyter2hashnode_story.ipynb)."
   ]
  },
  {
   "cell_type": "markdown",
   "metadata": {},
   "source": [
    "## Introduction\n",
    "As a data scientist, you want to share your work with others and reach a larger audience. Medium is a popular platform for this purpose, but it has limitations when it comes to data representation. To overcome this, I discovered Hashnode, a platform specifically designed for developers and the tech industry. It offers a powerful editor that supports markdown text, including tables, and provides an Amazon AWS S3 bucket for uploading images.\n",
    "\n",
    "To simplify the process of converting Jupyter Notebooks into Hashnode stories, I created a tool called Jupyter2Hashnode. With Jupyter2Hashnode, you can convert Jupyter Notebooks into Hashnode stories with just a single command. The tool compresses images, uploads them to the Hashnode server, updates image URLs in the markdown file, and finally, publishes the story article.\n",
    "\n"
   ]
  },
  {
   "cell_type": "markdown",
   "metadata": {},
   "source": [
    "## Getting Started with Jupyter2Hashnode\n",
    "\n",
    "Create a Python environment and install the Jupyter2Hashnode package.\n",
    "\n",
    "Install `jupyter2hashnode` with `pip`:\n",
    "[![PyPI version](https://badge.fury.io/py/jupyter2hashnode.svg)](https://badge.fury.io/py/jupyter2hashnode)\n",
    "\n",
    "```bash\n",
    "    $ pip install jupyter2hashnode\n",
    "```\n",
    "\n",
    "Obtain the JWT token, Hashnode API token, and Publication ID.\n",
    "\n",
    "Set the environment variables or pass the JWT token, Hashnode API token, and Publication ID when calling the Jupyter2Hashnode command.\n",
    "\n",
    "See the [full documentation](https://jupyter2hashnode.readthedocs.io/en/latest/index.html)."
   ]
  },
  {
   "cell_type": "markdown",
   "metadata": {},
   "source": [
    "## Using Jupyter2Hashnode as a Command Line Tool\n",
    "Jupyter2Hashnode converts the specified Jupyter Notebook to a Hashnode publication story, compresses images, uploads images to the Hashnode server, and replaces image URLs in the markdown file, then published. If the JWT token, API token, and Publication ID are not passed as arguments, the tool will use the environment variables HASHNODE_JWT, HASHNODE_TOKEN, and HASHNODE_PUBLICATION_ID.\n",
    "\n",
    "**Usage**:\n",
    "\n",
    "```bash\n",
    "    $ python3 -m jupyter2hashnode [OPTIONS] NOTEBOOK_PATH [OUTPUT_PATH]\n",
    "```\n",
    "\n",
    "**Arguments**:\n",
    "\n",
    "* `NOTEBOOK_PATH`: notebook file name or complete path  [required]\n",
    "* `[OUTPUT_PATH]`: output folder name or complete output path where the files will be written to, if none creates output folder with the same name as the notebook file name\n",
    "\n",
    "**Options**:\n",
    "\n",
    "* `-j, --jwt TEXT`: JWT token for authentication at https://hashnode.com/api/upload-image.\n",
    "* `-t, --token TEXT`: Token for authentication at https://api.hashnode.com  mutation createPublicationStory endpoint\n",
    "* `-p, --publication TEXT`: ID of the Hashnode publication e.g. https://hashnode.com/<id>/dashboard\n",
    "* `--title TEXT`: Article title  [required]\n",
    "* `--hide-from-feed / --no-hide-from-feed`: Hide this article from Hashnode and display it only on your blog  [default: True]\n",
    "* `--delete-files / --no-delete-files`: Delete all files after creating the publication story  [default: True]\n",
    "* `--upload / --no-upload`: Upload the publication story to the Hashnode server  [default: True]\n",
    "* `-v, --version`: Show the application's version and exit.\n",
    "* `--install-completion`: Install completion for the current shell.\n",
    "* `--show-completion`: Show completion for the current shell, to copy it or customize the installation.\n",
    "* `--help`: Show this message and exit."
   ]
  },
  {
   "attachments": {},
   "cell_type": "markdown",
   "metadata": {},
   "source": [
    "## Creating and Publishing a Jupyter Notebook to Hashnode\n",
    "\n",
    "### Setting up the environment\n",
    "To work on your project, you first need to create a project folder and a virtual environment within it:\n",
    "\n",
    "**macOS/Linux**\n",
    "```bash\n",
    "    $ mkdir myproject\n",
    "    $ cd myproject\n",
    "    $ python3 -m venv venv\n",
    "```\n",
    "\n",
    "**Windows**\n",
    "```powershell\n",
    "    > mkdir myproject\n",
    "    > cd myproject\n",
    "    > py -3 -m venv venv\n",
    "```\n",
    "Next, activate the environment:\n",
    "\n",
    "**macOS/Linux**\n",
    "```bash\n",
    "    $ . venv/bin/activate\n",
    "```\n",
    "\n",
    "**Windows**\n",
    "```powershell\n",
    "    > venv\\Scripts\\activate\n",
    "```  \n",
    "\n",
    "Install `jupyter2hashnode` with `pip`:\n",
    "[![PyPI version](https://badge.fury.io/py/jupyter2hashnode.svg)](https://badge.fury.io/py/jupyter2hashnode)\n",
    "\n",
    "```bash\n",
    "    $ pip install jupyter2hashnode\n",
    "```\n",
    "\n",
    "\n",
    "### Environment variables\n",
    "\n",
    "\n",
    "**JWT**\n",
    "To obtain JWT:\n",
    "\n",
    "1. Open https://hashnode.com, your account must be logged in\n",
    "\n",
    "2. Open DevTools of chrome browser (F12)\n",
    "\n",
    "3. Go to Application tab, go to Cookies, find and copy value of \"jwt\" cookie (245 characters)\n",
    "\n",
    "<img src=\"images/Hashnode_-_Google_Chrome_0221.png\" width=\"700\" >\n",
    "\n",
    "\n",
    "**API TOKEN**\n",
    "To obtain Hashnode API token:\n",
    "\n",
    "1. Open https://hashnode.com/settings/developer\n",
    "\n",
    "2. Click on \"Generate New Token\" button or use the existing one\n",
    "\n",
    "\n",
    "<img src=\"images/Developer_Settings_-_Hashnode_-_Google_Chrome_0223.png\" width=\"600\" >\n",
    "\n",
    "\n",
    "**PUBLICATION ID**\n",
    "To obtain Publication ID:\n",
    "\n",
    "1. Go to https://hashnode.com/settings/blogs\n",
    "\n",
    "2. Click \"Dashboard\" of the blog you want to upload to\n",
    "\n",
    "3. Copy the ID, e.g. https://hashnode.com/&lt;id&gt;/dashboard\n",
    "\n",
    "\n",
    "\n",
    "<img src=\"images/Dashboard_-_Hashnode_-_Google_Chrome_0223.png\" width=\"600\" >\n",
    "\n",
    "Setting the environment variable:\n",
    "\n",
    "- macOS/Linux:\n",
    "```bash\n",
    "    $ export HASHNODE_JWT=<your_jwt>\n",
    "    $ export HASHNODE_TOKEN=<your_token>\n",
    "    $ export HASHNODE_PUBLICATION_ID=<your_id>\n",
    "```\n",
    "\n",
    "- Windows command line:\n",
    "```console\n",
    "    > set HASHNODE_JWT=<your_jwt>\n",
    "    > set HASHNODE_TOKEN=<your_token>\n",
    "    > set HASHNODE_PUBLICATION_ID=<your_id>\n",
    "```\n",
    "- Windows Powershell:\n",
    "```powershell\n",
    "    > $env:HASHNODE_JWT=\"<your_jwt>\"\n",
    "    > $env:HASHNODE_TOKEN=\"<your_token>\"\n",
    "    > $env:HASHNODE_PUBLICATION_ID=\"<your_id>\"\n",
    "```\n"
   ]
  },
  {
   "attachments": {},
   "cell_type": "markdown",
   "metadata": {},
   "source": [
    "### Exporting and Publishing a Notebook\n",
    "\n",
    "Note: You can check the provided notebook examples in your virtual environment `.venv\\Lib\\site-packages\\jupyter2hashnode\\examples`\n",
    "   \n",
    "If you have set environment variables, to publish the story of example.ipynb, run:\n",
    "\n",
    "    `$ python3 -m jupyter2hashnode example.ipynb`\n",
    "\n",
    "You will be prompted to provide a title for your article.\n",
    "\n",
    "If you have not set environment variables, you can pass the required options in the command, such as the token:\n",
    "\n",
    "    `$ python3 -m jupyter2hashnode example.ipynb --token \"<your_token>\"`\n",
    "\n",
    "The process of publishing a Jupyter Notebook with jupyter2hashnode involves the following steps:\n",
    "- Exporting the Jupyter notebook file example.ipynb into a markdown file.\n",
    "- Compressing and uploading all images in the markdown file to the Hashnode s3 amazon AWS bucket, generating corresponding URLs for the images.\n",
    "- Replacing the local paths of the images in the markdown file with the generated URLs.\n",
    "- Uploading the markdown text to Hashnode to create a new article.\n",
    "\n",
    "The output of the above command should look something like this:\n",
    "\n",
    "```\n",
    "    Starting the publication...\n",
    "    Creating markdown file at md_example ...\n",
    "    Compressing and uploading images from  md_example ...\n",
    "    Story publication from file md_example\\example.md  with the title 'My published example'...\n",
    "    Result [200]: Publication article created successfully\n",
    "    Hashnode Post URL: https://hashnode.com/edit/clduiv6op0174d...\n",
    "```\n",
    "\n",
    "### Viewing the Published Article\n",
    "You can access your newly published article by clicking on the URL provided in the output or by checking your Hashnode dashboard.\n",
    "\n",
    "To make the article visible to others and show up in Hashnode's feed, edit the article, uncheck the option `Yes, hide this article from Hashnode and display it only on my blog`, and click update."
   ]
  },
  {
   "cell_type": "markdown",
   "metadata": {},
   "source": [
    "## Conclusion\n",
    "Hashnode is a hassle-free blogging and community platform for developers and the tech industry. Jupyter2Hashnode is a useful tool for converting Jupyter Notebooks into Hashnode stories, making it effortless to share your work with others. Try Jupyter2Hashnode today and experience the convenience of publishing your Jupyter Notebooks on Hashnode."
   ]
  }
 ],
 "metadata": {
  "kernelspec": {
   "display_name": "Python 3",
   "language": "python",
   "name": "python3"
  },
  "language_info": {
   "codemirror_mode": {
    "name": "ipython",
    "version": 3
   },
   "file_extension": ".py",
   "mimetype": "text/x-python",
   "name": "python",
   "nbconvert_exporter": "python",
   "pygments_lexer": "ipython3",
   "version": "3.9.2"
  },
  "varInspector": {
   "cols": {
    "lenName": 16,
    "lenType": 16,
    "lenVar": 40
   },
   "kernels_config": {
    "python": {
     "delete_cmd_postfix": "",
     "delete_cmd_prefix": "del ",
     "library": "var_list.py",
     "varRefreshCmd": "print(var_dic_list())"
    },
    "r": {
     "delete_cmd_postfix": ") ",
     "delete_cmd_prefix": "rm(",
     "library": "var_list.r",
     "varRefreshCmd": "cat(var_dic_list()) "
    }
   },
   "types_to_exclude": [
    "module",
    "function",
    "builtin_function_or_method",
    "instance",
    "_Feature"
   ],
   "window_display": false
  },
  "vscode": {
   "interpreter": {
    "hash": "7fcbe07157c1b3b8993a8bcf56b650e6a442ca8e2c193b390cc5479c8aec347c"
   }
  }
 },
 "nbformat": 4,
 "nbformat_minor": 2
}
